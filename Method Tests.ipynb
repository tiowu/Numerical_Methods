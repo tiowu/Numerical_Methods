{
 "cells": [
  {
   "cell_type": "markdown",
   "id": "f1bb802f",
   "metadata": {},
   "source": [
    "# Fixed Point Iteration Method"
   ]
  },
  {
   "cell_type": "code",
   "execution_count": 26,
   "id": "6ab75342",
   "metadata": {},
   "outputs": [
    {
     "name": "stdout",
     "output_type": "stream",
     "text": [
      "Iteration 1: x_2 = 1.000017\n",
      "Converged to 1.000017 after 1 iterations.\n"
     ]
    },
    {
     "data": {
      "text/plain": [
       "1.0000166667000001"
      ]
     },
     "execution_count": 26,
     "metadata": {},
     "output_type": "execute_result"
    }
   ],
   "source": [
    "import math\n",
    "\n",
    "def g(x):\n",
    "    # return - x**2 / 2 + x + 1/ 2\n",
    "    return x**2/3 + x - 1/3\n",
    "    # return 2.2 * math.cos(x) # |-2.2sin(x)| < 1, then g(x) will converge \n",
    "\n",
    "def fixed_point_method(x1, max_iterations, tolerance):\n",
    "    x_n = x1\n",
    "    for n in range(1, max_iterations + 1):\n",
    "        x_n_plus_1 = g(x_n)\n",
    "        print(f\"Iteration {n}: x_{n+1} = {x_n_plus_1:.6f}\")\n",
    "        \n",
    "        # Check for convergence\n",
    "        if abs(x_n_plus_1 - x_n) < tolerance:\n",
    "            print(f\"Converged to {x_n_plus_1:.6f} after {n} iterations.\")\n",
    "            return x_n_plus_1\n",
    "        x_n = x_n_plus_1\n",
    "    \n",
    "    print(\"Maximum iterations reached without convergence.\")\n",
    "    return x_n\n",
    "\n",
    "x1 = 1.00001\n",
    "max_iterations = 20\n",
    "tolerance = 1e-4\n",
    "\n",
    "fixed_point_method(x1, max_iterations, tolerance)"
   ]
  },
  {
   "cell_type": "markdown",
   "id": "c16a2d43",
   "metadata": {},
   "source": [
    "# Newton’s_Method"
   ]
  },
  {
   "cell_type": "code",
   "execution_count": 17,
   "id": "03d34495",
   "metadata": {},
   "outputs": [
    {
     "name": "stdout",
     "output_type": "stream",
     "text": [
      "Iteration 1: x = 2.199952, f(x) = -3.494568\n",
      "Iteration 2: x = 0.942349, f(x) = 0.351007\n",
      "Iteration 3: x = 1.068626, f(x) = -0.009701\n",
      "Iteration 4: x = 1.065313, f(x) = -0.000006\n",
      "Iteration 5: x = 1.065311, f(x) = -0.000000\n",
      "Iteration 6: x = 1.065311, f(x) = -0.000000\n",
      "\n",
      "root is approximately x = 1.065311\n"
     ]
    }
   ],
   "source": [
    "import math\n",
    "\n",
    "def f(x):\n",
    "    return 2.2 * math.cos(x) - x\n",
    "    # return math.sin(x) - 0.5 * x  \n",
    "    # return math.sqrt(math.cos(x)) - x  \n",
    "    # return 3 * x / math.tan(x)  \n",
    "    # return math.tan(x) - 2 * x \n",
    "    # return 5 * x**3 + 5 * x**2 + 4\n",
    "    # return math.exp(x) - 5.5 * x\n",
    "    # return math.exp(3 * x) + 5 * x - 2\n",
    "    # return x**3 + x + 2\n",
    "    # return x**2 - 7 * x + 10  \n",
    "\n",
    "def f_prime(x):\n",
    "    return -2.2 * math.sin(x) - 1\n",
    "    # return math.cos(x) - 0.5  \n",
    "    # return -0.5 * math.sin(x) / math.sqrt(math.cos(x)) - 1 \n",
    "    # return (3 * math.tan(x) - 3 * x * (1 / (math.cos(x))**2)) / (math.tan(x))**2  \n",
    "    # return 1 / math.cos(x)**2 - 2 \n",
    "    # return 15 * x**2 + 10 * x\n",
    "    # return math.exp(x) - 5.5\n",
    "    # return 3 * math.exp(3 * x) + 5\n",
    "    # return 3 * x**2 + 1\n",
    "    # return 2 * x - 7  \n",
    "\n",
    "x0 = 0.00001\n",
    "\n",
    "def newtons_method(x0, tolerance=1e-6, max_iterations=100):\n",
    "    x_n = x0\n",
    "    for n in range(max_iterations):\n",
    "        f_xn = f(x_n)\n",
    "        f_prime_xn = f_prime(x_n)\n",
    "        \n",
    "        if abs(f_prime_xn) < 1e-10:\n",
    "            print(\"Derivative too small. Stopping iteration.\")\n",
    "            return None\n",
    "        \n",
    "        x_n1 = x_n - f_xn / f_prime_xn\n",
    "        \n",
    "        print(f\"Iteration {n+1}: x = {x_n1:.6f}, f(x) = {f(x_n1):.6f}\")\n",
    "        \n",
    "        # Check if the result is within the tolerance level\n",
    "        if abs(x_n1 - x_n) < tolerance:\n",
    "            return x_n1\n",
    "        \n",
    "        x_n = x_n1\n",
    "    \n",
    "    print(\"no convergence upon hitting max number of iterations\")\n",
    "    return None\n",
    "\n",
    "approximate_root = newtons_method(x0)\n",
    "\n",
    "if approximate_root is not None:\n",
    "    print(f\"\\nroot is approximately x = {approximate_root:.6f}\")\n",
    "else:\n",
    "    print(\"\\nnewton's method didn't converge\")"
   ]
  },
  {
   "cell_type": "code",
   "execution_count": null,
   "id": "b8425345",
   "metadata": {},
   "outputs": [],
   "source": []
  }
 ],
 "metadata": {
  "kernelspec": {
   "display_name": "Python 3 (ipykernel)",
   "language": "python",
   "name": "python3"
  },
  "language_info": {
   "codemirror_mode": {
    "name": "ipython",
    "version": 3
   },
   "file_extension": ".py",
   "mimetype": "text/x-python",
   "name": "python",
   "nbconvert_exporter": "python",
   "pygments_lexer": "ipython3",
   "version": "3.11.5"
  }
 },
 "nbformat": 4,
 "nbformat_minor": 5
}
