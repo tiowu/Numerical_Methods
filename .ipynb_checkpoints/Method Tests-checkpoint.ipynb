{
 "cells": [
  {
   "cell_type": "markdown",
   "id": "f1bb802f",
   "metadata": {},
   "source": [
    "# Fixed Point Iteration Method"
   ]
  },
  {
   "cell_type": "code",
   "execution_count": 2,
   "id": "6ab75342",
   "metadata": {},
   "outputs": [
    {
     "name": "stdout",
     "output_type": "stream",
     "text": [
      "Iteration 1: x_2 = 2.189009\n",
      "Iteration 2: x_3 = -1.275075\n",
      "Iteration 3: x_4 = 0.641145\n",
      "Iteration 4: x_5 = 1.763105\n",
      "Iteration 5: x_6 = -0.420476\n",
      "Iteration 6: x_7 = 2.008368\n",
      "Iteration 7: x_8 = -0.932231\n",
      "Iteration 8: x_9 = 1.311296\n",
      "Iteration 9: x_10 = 0.564514\n",
      "Iteration 10: x_11 = 1.858667\n",
      "Iteration 11: x_12 = -0.624605\n",
      "Iteration 12: x_13 = 1.784627\n",
      "Iteration 13: x_14 = -0.466851\n",
      "Iteration 14: x_15 = 1.964578\n",
      "Iteration 15: x_16 = -0.844103\n",
      "Iteration 16: x_17 = 1.461684\n",
      "Iteration 17: x_18 = 0.239571\n",
      "Iteration 18: x_19 = 2.137168\n",
      "Iteration 19: x_20 = -1.180462\n",
      "Iteration 20: x_21 = 0.837095\n",
      "Iteration 21: x_22 = 1.473171\n",
      "Iteration 22: x_23 = 0.214436\n",
      "Iteration 23: x_24 = 2.149613\n",
      "Iteration 24: x_25 = -1.203473\n",
      "Iteration 25: x_26 = 0.790060\n",
      "Iteration 26: x_27 = 1.548366\n",
      "Iteration 27: x_28 = 0.049343\n",
      "Iteration 28: x_29 = 2.197322\n",
      "Iteration 29: x_30 = -1.289935\n",
      "Iteration 30: x_31 = 0.609803\n",
      "Iteration 31: x_32 = 1.803474\n",
      "Iteration 32: x_33 = -0.507284\n",
      "Iteration 33: x_34 = 1.922948\n",
      "Iteration 34: x_35 = -0.758820\n",
      "Iteration 35: x_36 = 1.596427\n",
      "Iteration 36: x_37 = -0.056381\n",
      "Iteration 37: x_38 = 2.196504\n",
      "Iteration 38: x_39 = -1.288477\n",
      "Iteration 39: x_40 = 0.612885\n",
      "Iteration 40: x_41 = 1.799582\n",
      "Iteration 41: x_42 = -0.498948\n",
      "Iteration 42: x_43 = 1.931790\n",
      "Iteration 43: x_44 = -0.777048\n",
      "Iteration 44: x_45 = 1.568570\n",
      "Iteration 45: x_46 = 0.004898\n",
      "Iteration 46: x_47 = 2.199974\n",
      "Iteration 47: x_48 = -1.294656\n",
      "Iteration 48: x_49 = 0.599818\n",
      "Iteration 49: x_50 = 1.815964\n",
      "Iteration 50: x_51 = -0.533982\n",
      "Maximum iterations reached without convergence.\n"
     ]
    },
    {
     "data": {
      "text/plain": [
       "-0.5339817424264895"
      ]
     },
     "execution_count": 2,
     "metadata": {},
     "output_type": "execute_result"
    }
   ],
   "source": [
    "import math\n",
    "\n",
    "def g(x):\n",
    "    return 2.2 * math.cos(x) # |2.2 * sin(x)| < 1, then g(x) will converge \n",
    "\n",
    "def fixed_point_method(x1, max_iterations, tolerance):\n",
    "    x_n = x1\n",
    "    for n in range(1, max_iterations + 1):\n",
    "        x_n_plus_1 = g(x_n)\n",
    "        print(f\"Iteration {n}: x_{n+1} = {x_n_plus_1:.6f}\")\n",
    "        \n",
    "        # Check for convergence\n",
    "        if abs(x_n_plus_1 - x_n) < tolerance:\n",
    "            print(f\"Converged to {x_n_plus_1:.6f} after {n} iterations.\")\n",
    "            return x_n_plus_1\n",
    "        x_n = x_n_plus_1\n",
    "    \n",
    "    print(\"Maximum iterations reached without convergence.\")\n",
    "    return x_n\n",
    "\n",
    "x1 = 0.1\n",
    "max_iterations = 50\n",
    "tolerance = 1e-6\n",
    "\n",
    "fixed_point_method(x1, max_iterations, tolerance)"
   ]
  },
  {
   "cell_type": "markdown",
   "id": "c16a2d43",
   "metadata": {},
   "source": [
    "# Newton’s_Method"
   ]
  },
  {
   "cell_type": "code",
   "execution_count": 8,
   "id": "03d34495",
   "metadata": {},
   "outputs": [
    {
     "name": "stdout",
     "output_type": "stream",
     "text": [
      "Iteration 1: x = -7.472741, f(x) = 2.808167\n",
      "Iteration 2: x = 14.478521, f(x) = -6.296958\n",
      "Iteration 3: x = 6.935115, f(x) = -2.860836\n",
      "Iteration 4: x = 16.635684, f(x) = -9.118097\n",
      "Iteration 5: x = 8.343938, f(x) = -3.289615\n",
      "Iteration 6: x = 4.954633, f(x) = -3.448119\n",
      "Iteration 7: x = -8.301318, f(x) = 3.249057\n",
      "Iteration 8: x = -4.817320, f(x) = 3.403160\n",
      "Iteration 9: x = 3.792574, f(x) = -2.502255\n",
      "Iteration 10: x = 1.861061, f(x) = 0.027638\n",
      "Iteration 11: x = 1.896214, f(x) = -0.000590\n",
      "Iteration 12: x = 1.895495, f(x) = -0.000000\n",
      "Iteration 13: x = 1.895494, f(x) = -0.000000\n",
      "\n",
      "root is approximately x = 1.895494\n"
     ]
    }
   ],
   "source": [
    "import math\n",
    "\n",
    "def f(x):\n",
    "    return math.sin(x) - 0.5 * x  \n",
    "    # return math.sqrt(math.cos(x)) - x  \n",
    "    # return 3 * x / math.tan(x)  \n",
    "    # return math.tan(x) - 2 * x \n",
    "    # return 5 * x**3 + 5 * x**2 + 4\n",
    "    # return math.exp(x) - 5.5 * x\n",
    "    # return math.exp(3 * x) + 5 * x - 2\n",
    "    # return x**3 + x + 2\n",
    "    # return x**2 - 7 * x + 10  \n",
    "\n",
    "def f_prime(x):\n",
    "    return math.cos(x) - 0.5  \n",
    "    # return -0.5 * math.sin(x) / math.sqrt(math.cos(x)) - 1 \n",
    "    # return (3 * math.tan(x) - 3 * x * (1 / (math.cos(x))**2)) / (math.tan(x))**2  \n",
    "    # return 1 / math.cos(x)**2 - 2 \n",
    "    # return 15 * x**2 + 10 * x\n",
    "    # return math.exp(x) - 5.5\n",
    "    # return 3 * math.exp(3 * x) + 5\n",
    "    # return 3 * x**2 + 1\n",
    "    # return 2 * x - 7  \n",
    "\n",
    "x0 = 1\n",
    "\n",
    "def newtons_method(x0, tolerance=1e-6, max_iterations=100):\n",
    "    x_n = x0\n",
    "    for n in range(max_iterations):\n",
    "        f_xn = f(x_n)\n",
    "        f_prime_xn = f_prime(x_n)\n",
    "        \n",
    "        if abs(f_prime_xn) < 1e-10:\n",
    "            print(\"Derivative too small. Stopping iteration.\")\n",
    "            return None\n",
    "        \n",
    "        x_n1 = x_n - f_xn / f_prime_xn\n",
    "        \n",
    "        print(f\"Iteration {n+1}: x = {x_n1:.6f}, f(x) = {f(x_n1):.6f}\")\n",
    "        \n",
    "        # Check if the result is within the tolerance level\n",
    "        if abs(x_n1 - x_n) < tolerance:\n",
    "            return x_n1\n",
    "        \n",
    "        x_n = x_n1\n",
    "    \n",
    "    print(\"no convergence upon hitting max number of iterations\")\n",
    "    return None\n",
    "\n",
    "approximate_root = newtons_method(x0)\n",
    "\n",
    "if approximate_root is not None:\n",
    "    print(f\"\\nroot is approximately x = {approximate_root:.6f}\")\n",
    "else:\n",
    "    print(\"\\nnewton's method didn't converge\")"
   ]
  },
  {
   "cell_type": "code",
   "execution_count": null,
   "id": "b8425345",
   "metadata": {},
   "outputs": [],
   "source": []
  }
 ],
 "metadata": {
  "kernelspec": {
   "display_name": "Python 3 (ipykernel)",
   "language": "python",
   "name": "python3"
  },
  "language_info": {
   "codemirror_mode": {
    "name": "ipython",
    "version": 3
   },
   "file_extension": ".py",
   "mimetype": "text/x-python",
   "name": "python",
   "nbconvert_exporter": "python",
   "pygments_lexer": "ipython3",
   "version": "3.11.5"
  }
 },
 "nbformat": 4,
 "nbformat_minor": 5
}
