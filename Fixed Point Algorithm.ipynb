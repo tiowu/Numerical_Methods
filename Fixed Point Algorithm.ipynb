{
 "cells": [
  {
   "cell_type": "code",
   "execution_count": 2,
   "id": "cb30d2c2",
   "metadata": {},
   "outputs": [
    {
     "name": "stdout",
     "output_type": "stream",
     "text": [
      "x_2 = 1.732051\n",
      "x_3 = 1.931852\n",
      "x_4 = 1.982890\n",
      "x_5 = 1.995718\n",
      "x_6 = 1.998929\n",
      "x_7 = 1.999732\n",
      "x_8 = 1.999933\n"
     ]
    }
   ],
   "source": [
    "import math\n",
    "\n",
    "def g(x):\n",
    "    return math.sqrt(2 + x)\n",
    "\n",
    "def fixed_point_algorithm(x1, max_iterations):\n",
    "    x_n = x1\n",
    "    for n in range(1, max_iterations + 1):\n",
    "        x_n_plus_1 = g(x_n)\n",
    "        print(f\"x_{n+1} = {x_n_plus_1:.6f}\")\n",
    "        x_n = x_n_plus_1\n",
    "\n",
    "x1 = 1\n",
    "max_iterations = 7\n",
    "\n",
    "fixed_point_algorithm(x1, max_iterations)"
   ]
  },
  {
   "cell_type": "code",
   "execution_count": null,
   "id": "32bdcd42",
   "metadata": {},
   "outputs": [],
   "source": []
  }
 ],
 "metadata": {
  "kernelspec": {
   "display_name": "Python 3 (ipykernel)",
   "language": "python",
   "name": "python3"
  },
  "language_info": {
   "codemirror_mode": {
    "name": "ipython",
    "version": 3
   },
   "file_extension": ".py",
   "mimetype": "text/x-python",
   "name": "python",
   "nbconvert_exporter": "python",
   "pygments_lexer": "ipython3",
   "version": "3.11.5"
  }
 },
 "nbformat": 4,
 "nbformat_minor": 5
}
