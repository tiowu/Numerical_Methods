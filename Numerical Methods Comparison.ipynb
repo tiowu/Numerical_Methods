{
 "cells": [
  {
   "cell_type": "markdown",
   "id": "f1bb802f",
   "metadata": {},
   "source": [
    "# Fixed Point Iteration Method (Nonlinear Equations)"
   ]
  },
  {
   "cell_type": "code",
   "execution_count": 36,
   "id": "6ab75342",
   "metadata": {},
   "outputs": [
    {
     "name": "stdout",
     "output_type": "stream",
     "text": [
      "Iteration 1: x_2 = 1.000017\n",
      "Converged to 1.000017 after 1 iterations.\n"
     ]
    },
    {
     "data": {
      "text/plain": [
       "1.0000166667000001"
      ]
     },
     "execution_count": 36,
     "metadata": {},
     "output_type": "execute_result"
    }
   ],
   "source": [
    "import math\n",
    "\n",
    "def g(x):\n",
    "    # return - x**2 / 2 + x + 1/ 2\n",
    "    return x**2/3 + x - 1/3\n",
    "    # return 2.2 * math.cos(x) # |-2.2sin(x)| < 1, then g(x) will converge \n",
    "\n",
    "def fixed_point_method(x1, max_iterations, tolerance):\n",
    "    x_n = x1\n",
    "    for n in range(1, max_iterations + 1):\n",
    "        x_n_plus_1 = g(x_n)\n",
    "        print(f\"Iteration {n}: x_{n+1} = {x_n_plus_1:.6f}\")\n",
    "        \n",
    "        # Check for convergence\n",
    "        if abs(x_n_plus_1 - x_n) < tolerance:\n",
    "            print(f\"Converged to {x_n_plus_1:.6f} after {n} iterations.\")\n",
    "            return x_n_plus_1\n",
    "        x_n = x_n_plus_1\n",
    "    \n",
    "    print(\"Maximum iterations reached without convergence.\")\n",
    "    return x_n\n",
    "\n",
    "x1 = 1.00001\n",
    "max_iterations = 20\n",
    "tolerance = 1e-4\n",
    "\n",
    "fixed_point_method(x1, max_iterations, tolerance)"
   ]
  },
  {
   "cell_type": "markdown",
   "id": "c16a2d43",
   "metadata": {},
   "source": [
    "# Newton’s Method (Nonlinear Equations)"
   ]
  },
  {
   "cell_type": "code",
   "execution_count": 37,
   "id": "03d34495",
   "metadata": {},
   "outputs": [
    {
     "name": "stdout",
     "output_type": "stream",
     "text": [
      "Iteration 1: x = 2.199952, f(x) = -3.494568\n",
      "Iteration 2: x = 0.942349, f(x) = 0.351007\n",
      "Iteration 3: x = 1.068626, f(x) = -0.009701\n",
      "Iteration 4: x = 1.065313, f(x) = -0.000006\n",
      "Iteration 5: x = 1.065311, f(x) = -0.000000\n",
      "Iteration 6: x = 1.065311, f(x) = -0.000000\n",
      "\n",
      "root is approximately x = 1.065311\n"
     ]
    }
   ],
   "source": [
    "import math\n",
    "\n",
    "def f(x):\n",
    "    return 2.2 * math.cos(x) - x\n",
    "    # return math.sin(x) - 0.5 * x  \n",
    "    # return math.sqrt(math.cos(x)) - x  \n",
    "    # return 3 * x / math.tan(x)  \n",
    "    # return math.tan(x) - 2 * x \n",
    "    # return 5 * x**3 + 5 * x**2 + 4\n",
    "    # return math.exp(x) - 5.5 * x\n",
    "    # return math.exp(3 * x) + 5 * x - 2\n",
    "    # return x**3 + x + 2\n",
    "    # return x**2 - 7 * x + 10  \n",
    "\n",
    "def f_prime(x):\n",
    "    return -2.2 * math.sin(x) - 1\n",
    "    # return math.cos(x) - 0.5  \n",
    "    # return -0.5 * math.sin(x) / math.sqrt(math.cos(x)) - 1 \n",
    "    # return (3 * math.tan(x) - 3 * x * (1 / (math.cos(x))**2)) / (math.tan(x))**2  \n",
    "    # return 1 / math.cos(x)**2 - 2 \n",
    "    # return 15 * x**2 + 10 * x\n",
    "    # return math.exp(x) - 5.5\n",
    "    # return 3 * math.exp(3 * x) + 5\n",
    "    # return 3 * x**2 + 1\n",
    "    # return 2 * x - 7  \n",
    "\n",
    "x0 = 0.00001\n",
    "\n",
    "def newtons_method(x0, tolerance=1e-6, max_iterations=100):\n",
    "    x_n = x0\n",
    "    for n in range(max_iterations):\n",
    "        f_xn = f(x_n)\n",
    "        f_prime_xn = f_prime(x_n)\n",
    "        \n",
    "        if abs(f_prime_xn) < 1e-10:\n",
    "            print(\"Derivative too small. Stopping iteration.\")\n",
    "            return None\n",
    "        \n",
    "        x_n1 = x_n - f_xn / f_prime_xn\n",
    "        \n",
    "        print(f\"Iteration {n+1}: x = {x_n1:.6f}, f(x) = {f(x_n1):.6f}\")\n",
    "        \n",
    "        # Check if the result is within the tolerance level\n",
    "        if abs(x_n1 - x_n) < tolerance:\n",
    "            return x_n1\n",
    "        \n",
    "        x_n = x_n1\n",
    "    \n",
    "    print(\"no convergence upon hitting max number of iterations\")\n",
    "    return None\n",
    "\n",
    "approximate_root = newtons_method(x0)\n",
    "\n",
    "if approximate_root is not None:\n",
    "    print(f\"\\nroot is approximately x = {approximate_root:.6f}\")\n",
    "else:\n",
    "    print(\"\\nnewton's method didn't converge\")"
   ]
  },
  {
   "cell_type": "code",
   "execution_count": 43,
   "id": "b8425345",
   "metadata": {},
   "outputs": [
    {
     "name": "stdout",
     "output_type": "stream",
     "text": [
      "The product of (1 - 1/n) for 100 iterations is: 0.5016611295681062\n"
     ]
    }
   ],
   "source": [
    "product = 1\n",
    "\n",
    "for n in range(2, 302):\n",
    "    product *= (1 - 1/(n**2))\n",
    "\n",
    "print(f\"The product of (1 - 1/n) for 100 iterations is: {product}\")"
   ]
  },
  {
   "cell_type": "markdown",
   "id": "8834423f",
   "metadata": {},
   "source": [
    "# Lagrange Interpolation (Polynomial Approximation)"
   ]
  },
  {
   "cell_type": "code",
   "execution_count": 39,
   "id": "8cfdec12",
   "metadata": {},
   "outputs": [
    {
     "data": {
      "image/png": "[encoded data removed]",
      "text/plain": [
       "<Figure size 640x480 with 1 Axes>"
      ]
     },
     "metadata": {},
     "output_type": "display_data"
    }
   ],
   "source": [
    "import numpy as np\n",
    "import matplotlib.pyplot as plt\n",
    "\n",
    "def lagrange_interpolation(x_values, y_values, x):\n",
    "    total_sum = 0\n",
    "    n = len(x_values)\n",
    "    for i in range(n):\n",
    "        term = y_values[i]\n",
    "        for j in range(n):\n",
    "            if i != j:\n",
    "                term = term * (x - x_values[j]) / (x_values[i] - x_values[j])\n",
    "        total_sum += term\n",
    "    return total_sum\n",
    "\n",
    "x_values = np.array([1, 3, 5, 9])\n",
    "y_values = np.array([2, 3, 9, 12])\n",
    "\n",
    "x_interp = np.linspace(1, 4, 100)\n",
    "y_interp = [lagrange_interpolation(x_values, y_values, xi) for xi in x_interp]\n",
    "\n",
    "plt.plot(x_values, y_values, 'o', label='Given Points')\n",
    "plt.plot(x_interp, y_interp, '-', label='Lagrange Interpolation')\n",
    "plt.legend()\n",
    "plt.title('Lagrange Interpolation')\n",
    "plt.show()"
   ]
  },
  {
   "cell_type": "markdown",
   "id": "3406d32d",
   "metadata": {},
   "source": [
    "# Least Squares Approximation"
   ]
  },
  {
   "cell_type": "code",
   "execution_count": 40,
   "id": "11fb756b",
   "metadata": {},
   "outputs": [
    {
     "name": "stdout",
     "output_type": "stream",
     "text": [
      "Coefficients of the polynomial: [ 1.00000000e+00 -3.77446436e-15  7.14015350e-15]\n"
     ]
    },
    {
     "data": {
      "image/png": "[encoded data removed]",
      "text/plain": [
       "<Figure size 640x480 with 1 Axes>"
      ]
     },
     "metadata": {},
     "output_type": "display_data"
    }
   ],
   "source": [
    "import numpy as np\n",
    "import matplotlib.pyplot as plt\n",
    "\n",
    "x_values = np.array([1, 2, 3, 4])\n",
    "y_values = np.array([1, 4, 9, 16])\n",
    "\n",
    "degree = 2\n",
    "\n",
    "coefficients = np.polyfit(x_values, y_values, degree)\n",
    "polynomial = np.poly1d(coefficients)\n",
    "\n",
    "x_interp = np.linspace(1, 4, 100)\n",
    "y_interp = polynomial(x_interp)\n",
    "\n",
    "print(\"Coefficients of the polynomial:\", coefficients)\n",
    "\n",
    "plt.plot(x_values, y_values, 'o', label='Given Points')\n",
    "plt.plot(x_interp, y_interp, '-', label='Polynomial Approximation')\n",
    "plt.legend()\n",
    "plt.title('Polynomial Approximation (Least Squares)')\n",
    "plt.show()"
   ]
  },
  {
   "cell_type": "markdown",
   "id": "020b7228",
   "metadata": {},
   "source": [
    "# Trapezoidal Rule (Numerical Integration)"
   ]
  },
  {
   "cell_type": "code",
   "execution_count": 41,
   "id": "8ad1fa9f",
   "metadata": {},
   "outputs": [
    {
     "name": "stdout",
     "output_type": "stream",
     "text": [
      "Approximate integral: 1.9999983550656624\n"
     ]
    }
   ],
   "source": [
    "import numpy as np\n",
    "\n",
    "def trapezoidal_rule(func, a, b, n):\n",
    "    \"\"\"\n",
    "    Approximates the integral of a function `func` from `a` to `b`\n",
    "    using the trapezoidal rule with `n` subintervals.\n",
    "    \n",
    "    Parameters:\n",
    "    func: callable\n",
    "        The function to integrate.\n",
    "    a: float\n",
    "        The start of the interval.\n",
    "    b: float\n",
    "        The end of the interval.\n",
    "    n: int\n",
    "        The number of subintervals.\n",
    "    \n",
    "    Returns:\n",
    "    float\n",
    "        The approximate integral of `func` from `a` to `b`.\n",
    "    \"\"\"\n",
    "    # Width of each subinterval\n",
    "    h = (b - a) / n\n",
    "    \n",
    "    # Calculate the sum\n",
    "    integral = 0.5 * (func(a) + func(b))\n",
    "    for i in range(1, n):\n",
    "        integral += func(a + i * h)\n",
    "    \n",
    "    return integral * h\n",
    "\n",
    "# Example usage:\n",
    "f = lambda x: np.sin(x)  # Example function\n",
    "a = 0                    # Lower bound of integration\n",
    "b = np.pi                # Upper bound of integration\n",
    "n = 1000                 # Number of subintervals\n",
    "\n",
    "result = trapezoidal_rule(f, a, b, n)\n",
    "print(f\"Approximate integral: {result}\")"
   ]
  },
  {
   "cell_type": "markdown",
   "id": "74611ac4",
   "metadata": {},
   "source": [
    "# Finite Difference Method (Numerical Differentiation)"
   ]
  },
  {
   "cell_type": "code",
   "execution_count": 42,
   "id": "6bf48f18",
   "metadata": {},
   "outputs": [
    {
     "name": "stdout",
     "output_type": "stream",
     "text": [
      "Approximate derivative at x=0.7853981633974483: 0.7071067811725839\n"
     ]
    }
   ],
   "source": [
    "import numpy as np\n",
    "\n",
    "def numerical_derivative(func, x, h=1e-5):\n",
    "    \"\"\"\n",
    "    Approximates the derivative of `func` at a point `x` using\n",
    "    the central difference method.\n",
    "    \n",
    "    Parameters:\n",
    "    func: callable\n",
    "        The function to differentiate.\n",
    "    x: float\n",
    "        The point at which to evaluate the derivative.\n",
    "    h: float, optional\n",
    "        The step size for finite differences (default is 1e-5).\n",
    "    \n",
    "    Returns:\n",
    "    float\n",
    "        The approximate derivative of `func` at `x`.\n",
    "    \"\"\"\n",
    "    return (func(x + h) - func(x - h)) / (2 * h)\n",
    "\n",
    "# Example usage:\n",
    "f = lambda x: np.sin(x)  # Example function\n",
    "x = np.pi / 4            # Point where derivative is evaluated\n",
    "\n",
    "derivative = numerical_derivative(f, x)\n",
    "print(f\"Approximate derivative at x={x}: {derivative}\")"
   ]
  }
 ],
 "metadata": {
  "kernelspec": {
   "display_name": "base",
   "language": "python",
   "name": "python3"
  },
  "language_info": {
   "codemirror_mode": {
    "name": "ipython",
    "version": 3
   },
   "file_extension": ".py",
   "mimetype": "text/x-python",
   "name": "python",
   "nbconvert_exporter": "python",
   "pygments_lexer": "ipython3",
   "version": "3.11.5"
  }
 },
 "nbformat": 4,
 "nbformat_minor": 5
}
