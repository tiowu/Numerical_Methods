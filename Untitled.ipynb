{
 "cells": [
  {
   "cell_type": "markdown",
   "id": "0fe23a91",
   "metadata": {},
   "source": [
    "# Direct Method"
   ]
  },
  {
   "cell_type": "code",
   "execution_count": 1,
   "id": "67bb389a",
   "metadata": {},
   "outputs": [
    {
     "name": "stdout",
     "output_type": "stream",
     "text": [
      "[0. 0. 0. 0. 0.]\n"
     ]
    }
   ],
   "source": [
    "import numpy as np\n",
    "x=np.zeros(5)\n",
    "print(x)"
   ]
  },
  {
   "cell_type": "code",
   "execution_count": 3,
   "id": "62889f61",
   "metadata": {},
   "outputs": [
    {
     "name": "stdout",
     "output_type": "stream",
     "text": [
      "[1.33333333 4.         3.        ]\n"
     ]
    }
   ],
   "source": [
    "A = np.array([[3,0,0],[0,2,0],[0,0,7]])\n",
    "b = np.array([4,8,21])\n",
    "x = np.zeros(3)\n",
    "for i in range(3):\n",
    "    x[i] = b[i] / A[i,i]\n",
    "print(x)"
   ]
  },
  {
   "cell_type": "code",
   "execution_count": 4,
   "id": "dc45e0d6",
   "metadata": {},
   "outputs": [
    {
     "data": {
      "text/plain": [
       "(1.3333333333333333, 4.0, 3.0)"
      ]
     },
     "execution_count": 4,
     "metadata": {},
     "output_type": "execute_result"
    }
   ],
   "source": [
    "x[0], x[1], x[2] ## remember indexing starts with 0"
   ]
  },
  {
   "cell_type": "code",
   "execution_count": 5,
   "id": "9ab8c6aa",
   "metadata": {},
   "outputs": [],
   "source": [
    "def solvediag(A,b):\n",
    "    n=len(b)\n",
    "    x = np.zeros(n)\n",
    "    for i in range(n):\n",
    "        x[i] = b[i] / A[i,i]\n",
    "    return x"
   ]
  },
  {
   "cell_type": "code",
   "execution_count": 6,
   "id": "e98ae217",
   "metadata": {},
   "outputs": [
    {
     "name": "stdout",
     "output_type": "stream",
     "text": [
      "[[3 0 0]\n",
      " [0 2 0]\n",
      " [0 0 7]]\n",
      "[ 4  8 21]\n"
     ]
    }
   ],
   "source": [
    "print(A)\n",
    "print(b)"
   ]
  },
  {
   "cell_type": "code",
   "execution_count": 7,
   "id": "603f5ec5",
   "metadata": {},
   "outputs": [
    {
     "data": {
      "text/plain": [
       "array([1.33333333, 4.        , 3.        ])"
      ]
     },
     "execution_count": 7,
     "metadata": {},
     "output_type": "execute_result"
    }
   ],
   "source": [
    "solvediag(A,b)"
   ]
  },
  {
   "cell_type": "code",
   "execution_count": 8,
   "id": "9ec56230",
   "metadata": {},
   "outputs": [
    {
     "name": "stderr",
     "output_type": "stream",
     "text": [
      "/var/folders/7h/m_gp7w0x1955xv6xvcndpkf40000gn/T/ipykernel_7879/84374609.py:5: RuntimeWarning: divide by zero encountered in scalar divide\n",
      "  x[i] = b[i] / A[i,i]\n"
     ]
    },
    {
     "data": {
      "text/plain": [
       "array([inf,  4.,  3.])"
      ]
     },
     "execution_count": 8,
     "metadata": {},
     "output_type": "execute_result"
    }
   ],
   "source": [
    "A2 = np.array([[0,0,0],[0,2,0],[0,0,7]])\n",
    "b2 = np.array([4,8,21])\n",
    "solvediag(A2,b2)"
   ]
  },
  {
   "cell_type": "code",
   "execution_count": 9,
   "id": "20a6adcd",
   "metadata": {},
   "outputs": [
    {
     "ename": "IndexError",
     "evalue": "index 3 is out of bounds for axis 0 with size 3",
     "output_type": "error",
     "traceback": [
      "\u001b[0;31m---------------------------------------------------------------------------\u001b[0m",
      "\u001b[0;31mIndexError\u001b[0m                                Traceback (most recent call last)",
      "Cell \u001b[0;32mIn[9], line 3\u001b[0m\n\u001b[1;32m      1\u001b[0m A2 \u001b[38;5;241m=\u001b[39m np\u001b[38;5;241m.\u001b[39marray([[\u001b[38;5;241m4\u001b[39m,\u001b[38;5;241m0\u001b[39m,\u001b[38;5;241m0\u001b[39m],[\u001b[38;5;241m0\u001b[39m,\u001b[38;5;241m2\u001b[39m,\u001b[38;5;241m0\u001b[39m],[\u001b[38;5;241m0\u001b[39m,\u001b[38;5;241m0\u001b[39m,\u001b[38;5;241m7\u001b[39m]])\n\u001b[1;32m      2\u001b[0m b2 \u001b[38;5;241m=\u001b[39m np\u001b[38;5;241m.\u001b[39marray([\u001b[38;5;241m4\u001b[39m,\u001b[38;5;241m8\u001b[39m,\u001b[38;5;241m21\u001b[39m,\u001b[38;5;241m3\u001b[39m])\n\u001b[0;32m----> 3\u001b[0m solvediag(A2,b2)\n",
      "Cell \u001b[0;32mIn[5], line 5\u001b[0m, in \u001b[0;36msolvediag\u001b[0;34m(A, b)\u001b[0m\n\u001b[1;32m      3\u001b[0m x \u001b[38;5;241m=\u001b[39m np\u001b[38;5;241m.\u001b[39mzeros(n)\n\u001b[1;32m      4\u001b[0m \u001b[38;5;28;01mfor\u001b[39;00m i \u001b[38;5;129;01min\u001b[39;00m \u001b[38;5;28mrange\u001b[39m(n):\n\u001b[0;32m----> 5\u001b[0m     x[i] \u001b[38;5;241m=\u001b[39m b[i] \u001b[38;5;241m/\u001b[39m A[i,i]\n\u001b[1;32m      6\u001b[0m \u001b[38;5;28;01mreturn\u001b[39;00m x\n",
      "\u001b[0;31mIndexError\u001b[0m: index 3 is out of bounds for axis 0 with size 3"
     ]
    }
   ],
   "source": [
    "A2 = np.array([[4,0,0],[0,2,0],[0,0,7]])\n",
    "b2 = np.array([4,8,21,3])\n",
    "solvediag(A2,b2)"
   ]
  },
  {
   "cell_type": "code",
   "execution_count": 10,
   "id": "f133703f",
   "metadata": {},
   "outputs": [
    {
     "data": {
      "text/plain": [
       "(3, 3)"
      ]
     },
     "execution_count": 10,
     "metadata": {},
     "output_type": "execute_result"
    }
   ],
   "source": [
    "np.shape(A) # this function returns the shape of an array"
   ]
  },
  {
   "cell_type": "code",
   "execution_count": 14,
   "id": "f6107252",
   "metadata": {},
   "outputs": [],
   "source": [
    "def solvediag(A,b):\n",
    "    n=len(b)\n",
    "    if np.shape(A) != (n,n):\n",
    "        print(\"solvediag is only defined for a square A whose size matches\")\n",
    "        return\n",
    "    x = np.zeros(n)\n",
    "    for i in range(n):\n",
    "        x[i] = b[i] / A[i,i]\n",
    "    return x"
   ]
  },
  {
   "cell_type": "code",
   "execution_count": 15,
   "id": "c9600672",
   "metadata": {},
   "outputs": [
    {
     "name": "stdout",
     "output_type": "stream",
     "text": [
      "solvediag is only defined for a square A whose size matches\n"
     ]
    }
   ],
   "source": [
    "solvediag(A2,b2)"
   ]
  },
  {
   "cell_type": "code",
   "execution_count": 16,
   "id": "98740061",
   "metadata": {},
   "outputs": [
    {
     "data": {
      "text/plain": [
       "array([1.33333333, 4.        , 3.        ])"
      ]
     },
     "execution_count": 16,
     "metadata": {},
     "output_type": "execute_result"
    }
   ],
   "source": [
    "solvediag(A,b)"
   ]
  },
  {
   "cell_type": "code",
   "execution_count": 17,
   "id": "2d437ef2",
   "metadata": {},
   "outputs": [
    {
     "name": "stdout",
     "output_type": "stream",
     "text": [
      "[[1 2 3]\n",
      " [4 5 6]\n",
      " [7 8 9]]\n"
     ]
    }
   ],
   "source": [
    "B = np.array([[1,2,3],[4,5,6],[7,8,9]])\n",
    "print(B)"
   ]
  },
  {
   "cell_type": "code",
   "execution_count": 18,
   "id": "a321f23a",
   "metadata": {},
   "outputs": [
    {
     "data": {
      "text/plain": [
       "array([1, 5, 9])"
      ]
     },
     "execution_count": 18,
     "metadata": {},
     "output_type": "execute_result"
    }
   ],
   "source": [
    "np.diagonal(B) # returns the entries on the diagonal of any matrix"
   ]
  },
  {
   "cell_type": "code",
   "execution_count": 19,
   "id": "29ca26e9",
   "metadata": {},
   "outputs": [
    {
     "data": {
      "text/plain": [
       "array([[1, 0, 0, 0, 0, 0],\n",
       "       [0, 2, 0, 0, 0, 0],\n",
       "       [0, 0, 3, 0, 0, 0],\n",
       "       [0, 0, 0, 4, 0, 0],\n",
       "       [0, 0, 0, 0, 5, 0],\n",
       "       [0, 0, 0, 0, 0, 6]])"
      ]
     },
     "execution_count": 19,
     "metadata": {},
     "output_type": "execute_result"
    }
   ],
   "source": [
    "np.diag([1,2,3,4,5,6]) # makes a diagonal matrix with the given entries along th"
   ]
  },
  {
   "cell_type": "code",
   "execution_count": 20,
   "id": "16a037a6",
   "metadata": {},
   "outputs": [
    {
     "data": {
      "text/plain": [
       "array([[1, 0, 0],\n",
       "       [0, 5, 0],\n",
       "       [0, 0, 9]])"
      ]
     },
     "execution_count": 20,
     "metadata": {},
     "output_type": "execute_result"
    }
   ],
   "source": [
    "np.diag(np.diagonal(B))"
   ]
  },
  {
   "cell_type": "code",
   "execution_count": 21,
   "id": "b864b267",
   "metadata": {},
   "outputs": [
    {
     "name": "stdout",
     "output_type": "stream",
     "text": [
      "[[1 2 3]\n",
      " [4 5 6]\n",
      " [7 8 9]]\n",
      "[[0 2 3]\n",
      " [4 0 6]\n",
      " [7 8 0]]\n"
     ]
    }
   ],
   "source": [
    "print(B)\n",
    "print(B - np.diag(np.diagonal(B)))"
   ]
  },
  {
   "cell_type": "code",
   "execution_count": 22,
   "id": "f74819f1",
   "metadata": {},
   "outputs": [
    {
     "name": "stdout",
     "output_type": "stream",
     "text": [
      "[[3 0 0]\n",
      " [0 2 0]\n",
      " [0 0 7]]\n",
      "[[0 0 0]\n",
      " [0 0 0]\n",
      " [0 0 0]]\n"
     ]
    }
   ],
   "source": [
    "print(A)\n",
    "print(A - np.diag(np.diagonal(A)))"
   ]
  },
  {
   "cell_type": "code",
   "execution_count": 23,
   "id": "5caf8963",
   "metadata": {},
   "outputs": [
    {
     "data": {
      "text/plain": [
       "3"
      ]
     },
     "execution_count": 23,
     "metadata": {},
     "output_type": "execute_result"
    }
   ],
   "source": [
    "np.count_nonzero(A) ## counts the number of nonzero entries"
   ]
  },
  {
   "cell_type": "code",
   "execution_count": null,
   "id": "53f50f5d",
   "metadata": {},
   "outputs": [],
   "source": [
    "def solvediag(A,b):\n",
    "    n=len(b)\n",
    "    if np.shape(A) != (n,n):\n",
    "        print(\"solvediag is only defined for a square A whose size matches \n",
    "        return\n",
    "    if np.count_nonzero(A-np.diag(np.diagonal(A))) != 0:\n",
    "        print(\"solvediag is only defined for a diagonal matrix A\")\n",
    "        return\n",
    "    x = np.zeros(n)\n",
    "    for i in range(n):\n",
    "    x[i] = b[i] / A[i,i]\n",
    "    return x"
   ]
  }
 ],
 "metadata": {
  "kernelspec": {
   "display_name": "Python 3 (ipykernel)",
   "language": "python",
   "name": "python3"
  },
  "language_info": {
   "codemirror_mode": {
    "name": "ipython",
    "version": 3
   },
   "file_extension": ".py",
   "mimetype": "text/x-python",
   "name": "python",
   "nbconvert_exporter": "python",
   "pygments_lexer": "ipython3",
   "version": "3.11.5"
  }
 },
 "nbformat": 4,
 "nbformat_minor": 5
}
